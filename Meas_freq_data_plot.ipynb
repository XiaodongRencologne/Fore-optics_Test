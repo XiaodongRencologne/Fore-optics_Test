{
 "cells": [
  {
   "cell_type": "code",
   "execution_count": null,
   "metadata": {},
   "outputs": [],
   "source": [
    "import numpy as np\n",
    "import numpy.fft as fft\n",
    "from glob import glob\n",
    "from pathlib import PurePath,Path\n",
    "import matplotlib.pyplot as plt\n",
    "\n",
    "from champ_optics_Model import MCMC_Model,get_mean_err"
   ]
  },
  {
   "cell_type": "code",
   "execution_count": null,
   "metadata": {},
   "outputs": [],
   "source": [
    "Data_folder_list=['./4_30/test_93cm/','./4_30/test_1_47m/',\n",
    "                  './4_30/test_1_95m/','./4_30/test_2_49m/']\n",
    "keywords_list=['D_93cm_paper_*','D_1_47m_paper_*','D_1_95m_*','D_2_49m_*']"
   ]
  }
 ],
 "metadata": {
  "language_info": {
   "name": "python"
  }
 },
 "nbformat": 4,
 "nbformat_minor": 2
}
